{
 "cells": [
  {
   "cell_type": "markdown",
   "metadata": {},
   "source": [
    "# Conditionals\n",
    "\n",
    "## What's a conditional?\n",
    "Evaluating logic given certain conditions.\n",
    "\n",
    "Basically a `CASE WHEN ...` statement in SQL.\n",
    "The general syntax goes like this: \n",
    "```python\n",
    "if <condition 1>:\n",
    "    # do something for condition 1!\n",
    "\n",
    "elif <condition 2>:\n",
    "    # do something for condition 2!\n",
    "\n",
    "else:\n",
    "    # do something as a catch all!\n",
    "```"
   ]
  },
  {
   "cell_type": "markdown",
   "metadata": {},
   "source": [
    "There are a few important pieces to note here.\n",
    "1. Notice the **colon** at the end of the conditional lines. \n",
    "The code _**WILL NOT RUN**_ if these aren't present!\n",
    "This is python's way of knowing when you are about to _indent_ and _create a new code block_.\n",
    "2. As mentioned.. \n",
    "Take a look at the indent. \n",
    "This is *__4 spaces__*. \n",
    "Do not confuse spaces with tabs!\n",
    "And definitely do not mix tabs and spaces.. \n",
    "You will get an error.\n",
    "You want to indent after your colon to represent a new block of code.\n",
    "\n",
    "### When to Indent\n",
    "There are quite a few times you will need to indent to start a new code block.\n",
    "Here is a list of a few times it would be applicable and when you might see an indent: \n",
    "* If statements - `if ..:` / `elif ..:` / `else:`\n",
    "* For loops - `for ..:`\n",
    "* While loops - `while ..:`\n",
    "* Functions - `def ..:`\n",
    "* Class definitions - `class ..:`\n",
    "* Context managers - `with ..:`\n",
    "\n",
    "Up until now, we have only covered _if statements_.\n",
    "\n",
    "Let's take a look a more practical example."
   ]
  },
  {
   "cell_type": "code",
   "execution_count": null,
   "metadata": {},
   "outputs": [],
   "source": [
    "name = 'FooBar'\n",
    "\n",
    "if name == 'Foo':\n",
    "    print('First condition met')\n",
    "\n",
    "elif name == 'Bar':\n",
    "    print('Second condition met')\n",
    "\n",
    "else:\n",
    "    print('No idea what the name could be!')"
   ]
  },
  {
   "cell_type": "markdown",
   "metadata": {},
   "source": [
    "In this example, we are testing to see if the `name` equals something.\n",
    "When it does equal what we are expecting, we will print a custom message.\n",
    "If it doesn't match what we expect, we have the `else` statement catch it, and print a message anyways. \n",
    "\n",
    "Let's look at a more complex example."
   ]
  },
  {
   "cell_type": "code",
   "execution_count": null,
   "metadata": {},
   "outputs": [],
   "source": [
    "name = 'FooBar'\n",
    "\n",
    "if name == 'Foo' or name == 'Bar':\n",
    "    name = name.lower()\n",
    "\n",
    "elif len(name) > 3:\n",
    "    name = name.capitalize()\n",
    "\n",
    "else:\n",
    "    name = name.upper()\n",
    "\n",
    "print(name)"
   ]
  },
  {
   "cell_type": "markdown",
   "metadata": {},
   "source": [
    "Which condition was met?"
   ]
  },
  {
   "cell_type": "markdown",
   "metadata": {},
   "source": [
    "Also notice in this example the use of equal signs. \n",
    "In the first if statement, we are using a **_double equal_** (`==`) to test equality.\n",
    "In the next line, we use a **_single equal_** to assign a value to a variable.\n",
    "This distinction is very important!"
   ]
  },
  {
   "cell_type": "markdown",
   "metadata": {},
   "source": [
    "### YOUR TURN\n",
    "\n",
    "Given the following: \n",
    "```python\n",
    "number = 5\n",
    "```\n",
    "\n",
    "Write an if/elif/else block that checks the following criteria:\n",
    "* When number is less than 3, print `low`\n",
    "* When number is between 3 and 20, print `mid`\n",
    "* When number is greater than 20, print `high`"
   ]
  },
  {
   "cell_type": "code",
   "execution_count": null,
   "metadata": {},
   "outputs": [],
   "source": [
    "number = 5\n",
    "\n",
    "# Write your conditional here! \n",
    "# Feel free to use the code above as a guide"
   ]
  },
  {
   "cell_type": "markdown",
   "metadata": {},
   "source": [
    "### YOUR TURN.. AGAIN!"
   ]
  },
  {
   "cell_type": "markdown",
   "metadata": {},
   "source": [
    "Given the following: \n",
    "```python\n",
    "number = 5\n",
    "prime = True\n",
    "```\n",
    "\n",
    "Write an if/elif/else block that checks the following criteria:\n",
    "* For when prime is True\n",
    "    * When number is less than 3, print `low`\n",
    "    * When number is between 3 and 20, print `mid`\n",
    "    * Wen number is greater than 20, print `high`\n",
    "* When prime is False\n",
    "    * print : 'Not a prime number'\n"
   ]
  },
  {
   "cell_type": "code",
   "execution_count": null,
   "metadata": {},
   "outputs": [],
   "source": []
  }
 ],
 "metadata": {
  "kernelspec": {
   "display_name": "Python 3",
   "language": "python",
   "name": "python3"
  },
  "language_info": {
   "codemirror_mode": {
    "name": "ipython",
    "version": 3
   },
   "file_extension": ".py",
   "mimetype": "text/x-python",
   "name": "python",
   "nbconvert_exporter": "python",
   "pygments_lexer": "ipython3",
   "version": "3.6.5"
  }
 },
 "nbformat": 4,
 "nbformat_minor": 2
}
