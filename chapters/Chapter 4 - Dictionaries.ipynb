{
 "cells": [
  {
   "cell_type": "markdown",
   "metadata": {},
   "source": [
    "# Dictionaries\n",
    "\n",
    "<img src=\"./images/dictionary_example.png\" alt=\"dictionary\" style=\"width: 800px;\"/>\n",
    "\n",
    "\n",
    "## How do we (as humans) use a dictionary?\n",
    "\n",
    "We use dictionaries to look up a meaning to a word.\n",
    "Every word that we look up is the **_key_**, and the definition is the **_value_**.\n",
    "\n",
    "You can think of python dictionaries in a similar way. \n",
    "Dictionaries hold content that we need, and we can only access that content through a key."
   ]
  },
  {
   "cell_type": "markdown",
   "metadata": {},
   "source": [
    "<hr>\n",
    "\n",
    "## Creating a dictionary\n",
    "\n",
    "You can create dictionaries in a couple of different ways."
   ]
  },
  {
   "cell_type": "markdown",
   "metadata": {},
   "source": [
    "### First Way"
   ]
  },
  {
   "cell_type": "code",
   "execution_count": null,
   "metadata": {},
   "outputs": [],
   "source": [
    "# Create an empty dictionary\n",
    "animal = dict()\n",
    "\n",
    "# Add key/value pairs\n",
    "animal[\"name\"] = \"Kevin\"\n",
    "animal[\"breed\"] = \"Bulldog\"\n",
    "animal[\"age\"] = 5\n",
    "\n",
    "print(animal)"
   ]
  },
  {
   "cell_type": "markdown",
   "metadata": {},
   "source": [
    "### Second Way"
   ]
  },
  {
   "cell_type": "code",
   "execution_count": null,
   "metadata": {},
   "outputs": [],
   "source": [
    "animal = {\n",
    "    \"name\": \"Kevin\",\n",
    "    \"breed\": \"Bulldog\",\n",
    "    \"age\": 5\n",
    "}\n",
    "\n",
    "print(animal)"
   ]
  },
  {
   "cell_type": "markdown",
   "metadata": {},
   "source": [
    "<hr>\n",
    "\n",
    "## Reviewing Syntax\n",
    "\n",
    "Dictionaries are recognizable by their *__curly braces__*.\n",
    "Lists have *__square brackets__*, dictionaries have *__curly braces__*.\n",
    "\n",
    "Dictionaries look like this:\n",
    "```\n",
    "my_dictionary = { key : value, another_key : another_value }\n",
    "```\n",
    "\n",
    "Both the key and value can be just about anything.. \n",
    "But more often than not, the key will be a string.\n",
    "The key and value are separated by a colon, and the different items in your dictionary are separated by a comma."
   ]
  },
  {
   "cell_type": "markdown",
   "metadata": {},
   "source": [
    "<hr>\n",
    "\n",
    "### YOUR TURN\n",
    "\n",
    "Time to create a dictionary!\n",
    "* Create a dictionary where the keys are \"one\" through \"ten\" and the values are 1 through 10, respectively.\n",
    "* Do the inverse!\n",
    "Create a dictionary where the keys are 1 through 10 and the values are \"one\" through \"ten\", respectively."
   ]
  },
  {
   "cell_type": "code",
   "execution_count": null,
   "metadata": {},
   "outputs": [],
   "source": []
  },
  {
   "cell_type": "markdown",
   "metadata": {},
   "source": [
    "<hr>\n",
    "\n",
    "## Accessing Values\n",
    "\n",
    "So far, we've created a couple dictionaries. \n",
    "\n",
    "Let's take a look at our animal dictionary again. "
   ]
  },
  {
   "cell_type": "code",
   "execution_count": null,
   "metadata": {},
   "outputs": [],
   "source": [
    "print(animal)"
   ]
  },
  {
   "cell_type": "markdown",
   "metadata": {},
   "source": [
    "A question we may ask is..\n",
    "> **What breed is our animal?**\n",
    "\n",
    "We know that our dictionary has the answer. \n",
    "Just by looking at it, we know it's 'Bulldog'. \n",
    "But, we need to access it programatically. \n",
    "\n",
    "We can access a dictionary's value _by it's key_."
   ]
  },
  {
   "cell_type": "code",
   "execution_count": null,
   "metadata": {},
   "outputs": [],
   "source": [
    "print(animal['breed'])"
   ]
  },
  {
   "cell_type": "markdown",
   "metadata": {},
   "source": [
    "**What is the animal's name??**"
   ]
  },
  {
   "cell_type": "code",
   "execution_count": null,
   "metadata": {},
   "outputs": [],
   "source": [
    "print(animal['name'])"
   ]
  },
  {
   "cell_type": "markdown",
   "metadata": {},
   "source": [
    "In our examples, we were able to access our animals different attributes through the key. \n",
    "\n",
    "```python\n",
    "variable[ key ]\n",
    "```\n",
    "\n",
    "Note the square brackets!"
   ]
  },
  {
   "cell_type": "markdown",
   "metadata": {},
   "source": [
    "### YOUR TURN\n",
    "\n",
    "* Print out the values for the even numbers of your first number dictionary.\n",
    "* Print out the odd numbers for the other!"
   ]
  },
  {
   "cell_type": "code",
   "execution_count": null,
   "metadata": {},
   "outputs": [],
   "source": []
  },
  {
   "cell_type": "markdown",
   "metadata": {},
   "source": [
    "<hr>\n",
    "\n",
    "## Dictionary Methods\n",
    "\n",
    "Just like lists, dictionaries also have _methods_ that we can use.\n",
    "\n",
    "* `clear` - Clears out the keys and values\n",
    "* `get` - A safer way to access a value\n",
    "* `keys` - Returns all the keys in your dictionary\n",
    "* `values` - Returns all the values\n",
    "* `items` - Returns keys and values as pairs!\n",
    "* `update` - Merges two dictionaries together\n",
    "* `pop` - returns a value by key and removes it from the dictionary at the same time\n",
    "\n",
    "Go ahead and run the next cell. \n",
    "See what happens to our dictionary!"
   ]
  },
  {
   "cell_type": "code",
   "execution_count": null,
   "metadata": {},
   "outputs": [],
   "source": [
    "print('Keys ---> ', animal.keys())\n",
    "print('Values -> ', animal.values())\n",
    "print('Items --> ', animal.items())\n",
    "\n",
    "name = animal.pop('name')\n",
    "print('\\nName ---> ', name)\n",
    "print('Dict ---> ', animal)\n",
    "\n",
    "animal.update({'name': 'Bert', 'owner': 'Ernie'})\n",
    "print('Dict ---> ', animal)\n",
    "\n",
    "animal.clear()\n",
    "print('Animal -> ', animal)"
   ]
  },
  {
   "cell_type": "markdown",
   "metadata": {},
   "source": [
    "<hr>\n",
    "\n",
    "### YOUR TURN\n",
    "\n",
    "* Check the keys of your first number dictionary.\n",
    "* Check the values of the same dictionary.\n",
    "* Remove the highest number, and print out the number.\n",
    "Then, print the dictionary to make sure the number is gone.\n",
    "* Merge number dictionary 1 with number dictionary 2 and print it out.\n",
    "* Clear number dictionary 2."
   ]
  },
  {
   "cell_type": "code",
   "execution_count": null,
   "metadata": {},
   "outputs": [],
   "source": []
  }
 ],
 "metadata": {
  "kernelspec": {
   "display_name": "Python 3",
   "language": "python",
   "name": "python3"
  },
  "language_info": {
   "codemirror_mode": {
    "name": "ipython",
    "version": 3
   },
   "file_extension": ".py",
   "mimetype": "text/x-python",
   "name": "python",
   "nbconvert_exporter": "python",
   "pygments_lexer": "ipython3",
   "version": "3.6.5"
  }
 },
 "nbformat": 4,
 "nbformat_minor": 2
}
