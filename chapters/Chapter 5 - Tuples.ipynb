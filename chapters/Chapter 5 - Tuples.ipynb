{
 "cells": [
  {
   "cell_type": "markdown",
   "metadata": {},
   "source": [
    "# Tuples\n",
    "\n",
    "Tuples are like lists, but are immutable. \n",
    "They can't be modified once defined. \n",
    "However, finding values in a tuple is faster than in a list.\n",
    "\n",
    "**References**\n",
    "* [Python tuples](https://docs.python.org/3.6/tutorial/datastructures.html#tuples-and-sequences)\n",
    "* [Introducing Tuples](http://www.diveintopython.net/native_data_types/tuples.html)\n",
    "\n",
    "### General Syntax\n",
    "\n",
    "```python\n",
    "my_tuple = ( 'value_1', 'value_2', 'value_3' )\n",
    "```\n",
    "\n",
    "Tuples are recognizable by their **_parentheses_**.\n",
    "Lists have **_square brackets_**, tuples have **_parentheses_**."
   ]
  },
  {
   "cell_type": "markdown",
   "metadata": {},
   "source": [
    "<hr>\n",
    "\n",
    "### YOUR TURN\n",
    "\n",
    "Create a tuple named `zoo` that contains 10 of your favorite animals."
   ]
  },
  {
   "cell_type": "code",
   "execution_count": null,
   "metadata": {},
   "outputs": [],
   "source": []
  },
  {
   "cell_type": "markdown",
   "metadata": {},
   "source": [
    "<hr>\n",
    "\n",
    "Find one of your animals using the `tuple.index(value)` syntax on the tuple.\n",
    "\n",
    "For example:"
   ]
  },
  {
   "cell_type": "code",
   "execution_count": null,
   "metadata": {},
   "outputs": [],
   "source": [
    "flowers = (\"daisy\", \"rose\")\n",
    "print(flowers.index(\"rose\"))"
   ]
  },
  {
   "cell_type": "code",
   "execution_count": null,
   "metadata": {},
   "outputs": [],
   "source": []
  },
  {
   "cell_type": "markdown",
   "metadata": {},
   "source": [
    "<hr>\n",
    "\n",
    "Determine if an animal is in your tuple by using `value in tuple` syntax."
   ]
  },
  {
   "cell_type": "code",
   "execution_count": null,
   "metadata": {},
   "outputs": [],
   "source": [
    "flower_to_find = \"daisy\"\n",
    "if flower_to_find in flowers:\n",
    "    # Print that the animal was found\n",
    "    print('yay!')"
   ]
  },
  {
   "cell_type": "markdown",
   "metadata": {},
   "source": [
    "Sometimes tuples are created without parentheses as shown below."
   ]
  },
  {
   "cell_type": "code",
   "execution_count": null,
   "metadata": {},
   "outputs": [],
   "source": [
    "directions = 'north', 'south', 'east', 'west'\n",
    "print(directions)\n",
    "print(type(directions))"
   ]
  },
  {
   "cell_type": "markdown",
   "metadata": {},
   "source": [
    "<hr>\n",
    "\n",
    "You can reverse engineer (unpack) a tuple into another tuple with the following syntax."
   ]
  },
  {
   "cell_type": "code",
   "execution_count": null,
   "metadata": {},
   "outputs": [],
   "source": [
    "children = (\"Sally\", \"Hansel\", \"Gretel\", \"Svetlana\")\n",
    "(first_child, second_child, third_child, fourth_child) = children\n",
    "\n",
    "print(first_child)\n",
    "print(second_child)\n",
    "print(third_child)\n",
    "print(fourth_child)"
   ]
  },
  {
   "cell_type": "markdown",
   "metadata": {},
   "source": [
    "Create a variable for the animals in your zoo tuple, and print them to the console."
   ]
  },
  {
   "cell_type": "code",
   "execution_count": null,
   "metadata": {},
   "outputs": [],
   "source": []
  },
  {
   "cell_type": "markdown",
   "metadata": {},
   "source": [
    "<hr>\n",
    "\n",
    "Convert your tuple into a list."
   ]
  },
  {
   "cell_type": "code",
   "execution_count": null,
   "metadata": {},
   "outputs": [],
   "source": []
  },
  {
   "cell_type": "markdown",
   "metadata": {},
   "source": [
    "<hr>\n",
    "\n",
    "Use `extend()` to add three more animals to your zoo."
   ]
  },
  {
   "cell_type": "code",
   "execution_count": null,
   "metadata": {},
   "outputs": [],
   "source": []
  },
  {
   "cell_type": "markdown",
   "metadata": {},
   "source": [
    "<hr>\n",
    "\n",
    "Convert the list back into a tuple."
   ]
  },
  {
   "cell_type": "code",
   "execution_count": null,
   "metadata": {},
   "outputs": [],
   "source": []
  },
  {
   "cell_type": "code",
   "execution_count": null,
   "metadata": {},
   "outputs": [],
   "source": []
  }
 ],
 "metadata": {
  "kernelspec": {
   "display_name": "Python 3",
   "language": "python",
   "name": "python3"
  },
  "language_info": {
   "codemirror_mode": {
    "name": "ipython",
    "version": 3
   },
   "file_extension": ".py",
   "mimetype": "text/x-python",
   "name": "python",
   "nbconvert_exporter": "python",
   "pygments_lexer": "ipython3",
   "version": "3.7.4"
  }
 },
 "nbformat": 4,
 "nbformat_minor": 2
}
