{
 "cells": [
  {
   "cell_type": "markdown",
   "metadata": {},
   "source": [
    "# Tuples\n",
    "\n",
    "Tuples are like lists, but are immutable. \n",
    "They can't be modified once defined. \n",
    "However, finding values in a tuple is faster than in a list.\n",
    "\n",
    "For example, \"similar to Python lists, tuples are another standard data type that allows you to store values in a sequence. They might be useful in situations where you might want to share the data with someone but not allow them to manipulate the data. They can however use the data values, but no change is reflected in the original data shared.\" Source:https://www.datacamp.com/community/tutorials/python-tuples-tutorial\n",
    "\n",
    "**References**\n",
    "* [Python tuples](https://docs.python.org/3.6/tutorial/datastructures.html#tuples-and-sequences)\n",
    "* [Python Tuples Examples](https://appdividend.com/2019/01/05/python-tuple-example-tutorial-complete-introduction-on-tuples/)\n",
    "\n",
    "### General Syntax\n",
    "\n",
    "```python\n",
    "my_tuple = ( 'value_1', 'value_2', 'value_3' )\n",
    "```\n",
    "\n",
    "Tuples are recognizable by their **_parentheses_**.\n",
    "Lists have **_square brackets_**, dictionaries have **_curly brackets_**, tuples have **_parentheses_**."
   ]
  },
  {
   "cell_type": "markdown",
   "metadata": {},
   "source": [
    "### Tuples vs. Lists\n",
    "#### Syntax Difference"
   ]
  },
  {
   "cell_type": "code",
   "execution_count": null,
   "metadata": {},
   "outputs": [],
   "source": [
    "fastfood = [\"burger\", \"french fries\", \"taco\"]\n",
    "type(fastfood)"
   ]
  },
  {
   "cell_type": "code",
   "execution_count": null,
   "metadata": {},
   "outputs": [],
   "source": [
    "fastfood_2 = (\"burger\", \"french fries\", \"taco\")\n",
    "type(fastfood_2)"
   ]
  },
  {
   "cell_type": "markdown",
   "metadata": {},
   "source": [
    "#### Mutabilty\n",
    "Mutability is the tendency to change.  Lists and dictionaries can be changed, but tuples are immutable which means that the contents in a tuple cannot be changed."
   ]
  },
  {
   "cell_type": "code",
   "execution_count": null,
   "metadata": {},
   "outputs": [],
   "source": [
    "fastfood = [\"burger\", \"french fries\", \"taco\"]"
   ]
  },
  {
   "cell_type": "code",
   "execution_count": null,
   "metadata": {},
   "outputs": [],
   "source": [
    "fastfood[0] = \"pizza\""
   ]
  },
  {
   "cell_type": "code",
   "execution_count": null,
   "metadata": {},
   "outputs": [],
   "source": [
    "print(fastfood)"
   ]
  },
  {
   "cell_type": "code",
   "execution_count": null,
   "metadata": {},
   "outputs": [],
   "source": [
    "fastfood_2 = (\"burger\", \"french fries\", \"taco\")"
   ]
  },
  {
   "cell_type": "code",
   "execution_count": null,
   "metadata": {},
   "outputs": [],
   "source": [
    "fastfood_2[0] = \"pizza\""
   ]
  },
  {
   "cell_type": "code",
   "execution_count": null,
   "metadata": {},
   "outputs": [],
   "source": [
    "print(fastfood_2)"
   ]
  },
  {
   "cell_type": "markdown",
   "metadata": {},
   "source": [
    "As you can see, we cannot add \"pizza\" for the `fastfood_2` tupule, but we can add it to the `fastfood` list.  Therefore, we cannot add to, takeaway, or modify the contents/values of a tuple.  In order to make changes to a tuple, an entirely new tuple is often created.\n",
    "\n",
    "So instead of modifying `fastfood_2` by changing burger to pizza, let's see if we can add it."
   ]
  },
  {
   "cell_type": "code",
   "execution_count": null,
   "metadata": {},
   "outputs": [],
   "source": [
    "fastfood.append(\"pizza\")\n",
    "print(fastfood)"
   ]
  },
  {
   "cell_type": "code",
   "execution_count": null,
   "metadata": {},
   "outputs": [],
   "source": [
    "fastfood_2.append(\"pizza\")\n",
    "print(fastfood_2)"
   ]
  },
  {
   "cell_type": "markdown",
   "metadata": {},
   "source": [
    "Did anything interesting happen after running the last cell?  Now let's see what happens if we do the following..."
   ]
  },
  {
   "cell_type": "code",
   "execution_count": null,
   "metadata": {},
   "outputs": [],
   "source": [
    "fastfood_3 = fastfood_2 + \"pizza\"  # \"+\" sign means to concatenate"
   ]
  },
  {
   "cell_type": "markdown",
   "metadata": {},
   "source": [
    "Notice the message.  Now let's try it this way"
   ]
  },
  {
   "cell_type": "code",
   "execution_count": null,
   "metadata": {},
   "outputs": [],
   "source": [
    "pizza_tup = (\"pizza\",)  #Creates tuple.  Notice the extra comma\n",
    "fastfood_3 = fastfood_2 + pizza_tup\n",
    "print(fastfood_3)"
   ]
  },
  {
   "cell_type": "markdown",
   "metadata": {},
   "source": [
    "Another way to make changes is to first convert tuple to a list and then change before converting it back to tuple."
   ]
  },
  {
   "cell_type": "markdown",
   "metadata": {},
   "source": [
    "#### Memory\n",
    "Sometimes using different data structures affects memory usage and therefore, execution time when performing certain operations"
   ]
  },
  {
   "cell_type": "code",
   "execution_count": null,
   "metadata": {},
   "outputs": [],
   "source": [
    "tuple_names = ('John', 'Mary', 'Matt')\n",
    "list_names = ['John', 'Mary', 'Matt']\n",
    "print(tuple_names.__sizeof__())\n",
    "print(list_names.__sizeof__())\n",
    "#shares the size of the object in bytes"
   ]
  },
  {
   "cell_type": "markdown",
   "metadata": {},
   "source": [
    "#### Execution Time\n",
    "\n",
    "If optimizing effiency and resources is of concern, many have found that using tuples may also allow for faster execution times.  There are a number of ways to measure this, but let's use the timeit module to measure the time to iterate over a list and a tuple "
   ]
  },
  {
   "cell_type": "code",
   "execution_count": null,
   "metadata": {},
   "outputs": [],
   "source": [
    "    import timeit\n",
    "    code_to_test = \"\"\"\n",
    "   \n",
    "    b = [1,2,3,4,5,6,7,8,9]\n",
    "    for i in enumerate(b):\n",
    "        print(i)\n",
    "    \"\"\"\n",
    "    elapsed_time = timeit.timeit(code_to_test, number=100)/100\n",
    "    print(elapsed_time)\n",
    "    "
   ]
  },
  {
   "cell_type": "code",
   "execution_count": null,
   "metadata": {},
   "outputs": [],
   "source": [
    "    code_to_test = \"\"\"\n",
    "   \n",
    "    b = (1,2,3,4,5,6,7,8,9)\n",
    "    for i in enumerate(b):\n",
    "        print(i)\n",
    "    \"\"\"\n",
    "    elapsed_time = timeit.timeit(code_to_test, number=100)/100\n",
    "    print(elapsed_time)"
   ]
  },
  {
   "cell_type": "markdown",
   "metadata": {},
   "source": [
    "<hr>\n",
    "\n",
    "### YOUR TURN\n",
    "\n",
    "Create a tuple named `zoo` that contains 10 of your favorite animals."
   ]
  },
  {
   "cell_type": "code",
   "execution_count": null,
   "metadata": {},
   "outputs": [],
   "source": []
  },
  {
   "cell_type": "markdown",
   "metadata": {},
   "source": [
    "<hr>\n",
    "\n",
    "Find one of your animals using the `tuple.index(value)` syntax on the tuple.\n",
    "\n",
    "For example:"
   ]
  },
  {
   "cell_type": "code",
   "execution_count": null,
   "metadata": {},
   "outputs": [],
   "source": [
    "flowers = (\"daisy\", \"rose\")\n",
    "print(flowers.index(\"rose\"))"
   ]
  },
  {
   "cell_type": "code",
   "execution_count": null,
   "metadata": {},
   "outputs": [],
   "source": []
  },
  {
   "cell_type": "markdown",
   "metadata": {},
   "source": [
    "<hr>\n",
    "\n",
    "Determine if an animal is in your tuple by using `value in tuple` syntax."
   ]
  },
  {
   "cell_type": "code",
   "execution_count": null,
   "metadata": {},
   "outputs": [],
   "source": [
    "flower_to_find = \"daisy\"\n",
    "if flower_to_find in flowers:\n",
    "    # Print that the animal was found\n",
    "    print('yay!')"
   ]
  },
  {
   "cell_type": "code",
   "execution_count": null,
   "metadata": {},
   "outputs": [],
   "source": []
  },
  {
   "cell_type": "markdown",
   "metadata": {},
   "source": [
    "Sometimes tuples are created without parentheses as shown below."
   ]
  },
  {
   "cell_type": "code",
   "execution_count": null,
   "metadata": {},
   "outputs": [],
   "source": [
    "directions = 'north', 'south', 'east', 'west'\n",
    "print(directions)\n",
    "print(type(directions))"
   ]
  },
  {
   "cell_type": "markdown",
   "metadata": {},
   "source": [
    "<hr>\n",
    "\n",
    "You can reverse engineer (unpack) a tuple into another tuple with the following syntax."
   ]
  },
  {
   "cell_type": "code",
   "execution_count": null,
   "metadata": {},
   "outputs": [],
   "source": [
    "children = (\"Sally\", \"Hansel\", \"Gretel\", \"Svetlana\")\n",
    "(first_child, second_child, third_child, fourth_child) = children #This creates a variable for your tuple\n",
    "\n",
    "print(first_child)\n",
    "print(second_child)\n",
    "print(third_child)\n",
    "print(fourth_child)"
   ]
  },
  {
   "cell_type": "markdown",
   "metadata": {},
   "source": [
    "\"Packing and Unpacking a Tuple : In Python there is a very powerful tuple assignment feature that assigns right hand side of values into left hand side. In other way it is called unpacking of a tuple of values into a variable. In packing, we put values into a new tuple while in unpacking we extract those values into a single variable.\"\n",
    "Source: https://www.geeksforgeeks.org/unpacking-a-tuple-in-python/"
   ]
  },
  {
   "cell_type": "markdown",
   "metadata": {},
   "source": [
    "Create a variable for the animals in your zoo tuple, and print them to the console."
   ]
  },
  {
   "cell_type": "code",
   "execution_count": null,
   "metadata": {},
   "outputs": [],
   "source": []
  },
  {
   "cell_type": "markdown",
   "metadata": {},
   "source": [
    "<hr>\n",
    "\n",
    "### Tuple Operations and Methods\n",
    "\n",
    "Tuples have fewer methods and operations that can be used than other data types due to its immutable nature.\n",
    "\n",
    "* `del()` - Deletes the entire tuple\n",
    "* `len()` - Describes the number of elements in a tuple\n",
    "* `.index()` - returns the index of a value\n",
    "* `.count()` - counts the number of times an item shows up in a tuple\n",
    "* `tuple()` - Tuple constructor\n",
    "*  _concatenation_  - (A, B, C) + (1, 2, 3) = (A, B, C, 1, 2, 3)\n",
    "* _repetition_ - ('So and')*4 = ('So and', 'So and', 'So and', 'So and')\n"
   ]
  },
  {
   "cell_type": "markdown",
   "metadata": {},
   "source": [
    "<hr>\n",
    "\n",
    "Convert your tuple into a list."
   ]
  },
  {
   "cell_type": "code",
   "execution_count": null,
   "metadata": {},
   "outputs": [],
   "source": []
  },
  {
   "cell_type": "markdown",
   "metadata": {},
   "source": [
    "<hr>\n",
    "\n",
    "Use `extend()` to add three more animals to your zoo \"list\"."
   ]
  },
  {
   "cell_type": "code",
   "execution_count": null,
   "metadata": {},
   "outputs": [],
   "source": []
  },
  {
   "cell_type": "markdown",
   "metadata": {},
   "source": [
    "<hr>\n",
    "\n",
    "Convert the list back into a tuple."
   ]
  },
  {
   "cell_type": "code",
   "execution_count": null,
   "metadata": {},
   "outputs": [],
   "source": []
  },
  {
   "cell_type": "markdown",
   "metadata": {},
   "source": [
    "Use `extend()` to add three more animials to your zoo \"tuple\".\n",
    "_Think about this one carefully!  What do you notice_"
   ]
  },
  {
   "cell_type": "code",
   "execution_count": null,
   "metadata": {},
   "outputs": [],
   "source": []
  }
 ],
 "metadata": {
  "kernelspec": {
   "display_name": "Python 3",
   "language": "python",
   "name": "python3"
  },
  "language_info": {
   "codemirror_mode": {
    "name": "ipython",
    "version": 3
   },
   "file_extension": ".py",
   "mimetype": "text/x-python",
   "name": "python",
   "nbconvert_exporter": "python",
   "pygments_lexer": "ipython3",
   "version": "3.6.5"
  }
 },
 "nbformat": 4,
 "nbformat_minor": 2
}
