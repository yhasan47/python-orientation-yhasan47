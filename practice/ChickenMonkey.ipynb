{
 "cells": [
  {
   "cell_type": "markdown",
   "metadata": {},
   "source": [
    "# ChickenMonkey\n",
    "\n",
    "Write a program that prints the numbers from 1 to 100. \n",
    "You can use Python's `range()` to quickly make a list of numbers.\n",
    "\n",
    "## Instructions\n",
    "* For multiples of `five` (5, 10, 15, etc.) print `\"Chicken\"` instead of the number\n",
    "* For the multiples of `seven` (7, 14, 21, etc.) print `\"Monkey\"`\n",
    "* For numbers which are multiples of `both five and seven` print `\"ChickenMonkey\"`\n",
    "\n",
    "To determine if a number can be evenly divided by 5 or 7, use the Python `modulo` operator"
   ]
  },
  {
   "cell_type": "code",
   "execution_count": null,
   "metadata": {},
   "outputs": [],
   "source": [
    "# code here!"
   ]
  }
 ],
 "metadata": {
  "kernelspec": {
   "display_name": "Python 3",
   "language": "python",
   "name": "python3"
  },
  "language_info": {
   "codemirror_mode": {
    "name": "ipython",
    "version": 3
   },
   "file_extension": ".py",
   "mimetype": "text/x-python",
   "name": "python",
   "nbconvert_exporter": "python",
   "pygments_lexer": "ipython3",
   "version": "3.7.4"
  }
 },
 "nbformat": 4,
 "nbformat_minor": 2
}
