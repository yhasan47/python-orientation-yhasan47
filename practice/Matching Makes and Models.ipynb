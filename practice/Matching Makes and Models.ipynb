{
 "cells": [
  {
   "cell_type": "markdown",
   "metadata": {},
   "source": [
    "# Matching Makes and Models - Advanced"
   ]
  },
  {
   "cell_type": "code",
   "execution_count": null,
   "metadata": {},
   "outputs": [],
   "source": [
    "makes = (\n",
    "  (1, \"Toyota\"), (2, \"Nissan\"),\n",
    "  (3, \"Ford\"), (4, \"Mini\"),\n",
    "  (5, \"Honda\"), (6, \"Dodge\"),\n",
    ")\n",
    "\n",
    "models = (\n",
    "  (1, \"Altima\", 2), (2, \"Thunderbird\", 3),\n",
    "  (3, \"Dart\", 6), (4, \"Accord\", 5),\n",
    "  (5, \"Prius\", 1), (6, \"Countryman\", 4),\n",
    "  (7, \"Camry\", 1), (8, \"F150\", 3),\n",
    "  (9, \"Civic\", 5), (10, \"Ram\", 6),\n",
    "  (11, \"Cooper\", 4), (12, \"Pilot\", 5),\n",
    "  (13, \"Xterra\", 2), (14, \"Sentra\", 2),\n",
    "  (15, \"Charger\", 6)\n",
    ")\n",
    "\n",
    "colors = (\n",
    "  (1, \"Black\" ), (2, \"Charcoal\" ), (3, \"Red\" ), (4, \"Brick\" ),\n",
    "  (5, \"Blue\" ), (6, \"Navy\" ), (7, \"White\" ), (8, \"Ivory\" )\n",
    ")\n",
    "\n",
    "available_car_colors = (\n",
    "  (1, 1), (1, 2), (1, 7),\n",
    "  (2, 1), (2, 3), (2, 7),\n",
    "  (3, 2), (3, 3), (3, 7),\n",
    "  (4, 3), (4, 5), (4, 8),\n",
    "  (5, 2), (5, 4), (5, 8),\n",
    "  (6, 2), (6, 6), (6, 7),\n",
    "  (7, 1), (7, 3), (7, 7),\n",
    "  (8, 1), (8, 5), (8, 8),\n",
    "  (9, 1), (9, 6), (9, 7),\n",
    "  (10, 2), (10, 5), (10, 7),\n",
    "  (11, 3), (11, 6), (11, 8),\n",
    "  (12, 1), (12, 4), (12, 7),\n",
    "  (13, 2), (13, 6), (13, 8),\n",
    "  (14, 2), (14, 5), (14, 8),\n",
    "  (15, 1), (15, 4), (15, 7)\n",
    ")"
   ]
  },
  {
   "cell_type": "markdown",
   "metadata": {},
   "source": [
    "## Overview\n",
    "This is an advanced challenge because it requires multiple layers of iteration. \n",
    "It also makes you think about database relationships because there are four unique collections that are all related to each other.\n",
    "\n",
    "In the `makes` and `colors` collections, each item has a numeric identifier, and then a string representation.\n",
    "\n",
    "**Example**\n",
    "```\n",
    "(1, \"Toyota\")\n",
    "```\n",
    "\n",
    "<hr>\n",
    "\n",
    "In the `models` collection, each item also has a numeric identifier, but also stores the numeric identifier of a model.\n",
    "\n",
    "**Example**\n",
    "```\n",
    "(5, \"Prius\", 1)\n",
    "# 5 is the numeric identifier for a Prius\n",
    "# 1 is the numeric identifier to a foreign collection item... Toyota\n",
    "```\n",
    "\n",
    "<hr>\n",
    "\n",
    "Finally, the `available_car_colors` collection is storing the relationships between items in two foreign collections. \n",
    "The first number represents the corresponding model, and the second number represents the corresponding color.\n",
    "\n",
    "**Example**\n",
    "```\n",
    "(1, 7)\n",
    "# This represents a relationship between \"Altima\" and \"White\"\n",
    "```"
   ]
  },
  {
   "cell_type": "markdown",
   "metadata": {},
   "source": [
    "<hr>\n",
    "\n",
    "## Instructions\n",
    "\n",
    "### Part I: Reporting Object\n",
    "You must first build a new dictionary that follows the format below.\n",
    "\n",
    "Each key in the dictionary should be the name of a make, and its value will be a dictionary.\n",
    "The keys in the make dictionary will be the models, and the value will be a list of colors in which that the model is available.\n",
    "```json\n",
    "{\n",
    "    'Toyota': {\n",
    "      'Prius': ['Charcoal', 'Brick', 'Ivory'],\n",
    "      'Camry': ['Black', 'Red', 'White']\n",
    "    },\n",
    "    'Nissan': {\n",
    "      'Sentra': ['Charcoal', 'Blue', 'Ivory'],\n",
    "      'Altima': ['Black', 'Charcoal', 'White'],\n",
    "      'Xterra': ['Charcoal', 'Navy', 'Ivory']\n",
    "    },\n",
    "    'Mini': {\n",
    "      'Countryman': ['Charcoal', 'Navy', 'White'],\n",
    "      'Cooper': ['Red', 'Navy', 'Ivory']\n",
    "    },\n",
    "    'Ford': {\n",
    "      'F150': ['Black', 'Blue', 'Ivory'],\n",
    "      'Thunderbird': ['Black', 'Red', 'White']\n",
    "    },\n",
    "    'Honda': {\n",
    "      'Civic': ['Black', 'Navy', 'White'],\n",
    "      'Pilot': ['Black', 'Brick', 'White'],\n",
    "      'Accord': ['Red', 'Blue', 'Ivory']\n",
    "    },\n",
    "    'Dodge': {\n",
    "      'Ram': ['Charcoal', 'Blue', 'White'],\n",
    "      'Charger': ['Black', 'Brick', 'White'],\n",
    "      'Dart': ['Charcoal', 'Red', 'White']\n",
    "    }\n",
    "}\n",
    "```\n",
    "\n",
    "Of course, you should not do this manually.\n",
    "Write a program that does it for you."
   ]
  },
  {
   "cell_type": "code",
   "execution_count": null,
   "metadata": {},
   "outputs": [],
   "source": [
    "# code here!"
   ]
  },
  {
   "cell_type": "markdown",
   "metadata": {},
   "source": [
    "<hr>\n",
    "\n",
    "### Part II: Functional Report\n",
    "\n",
    "Create a function that accepts a `make` as an argument, and generates a report that looks like this: \n",
    "\n",
    "```py\n",
    "my_function(\"Ford\")\n",
    "```\n",
    "\n",
    "**Output**\n",
    "```\n",
    "Ford\n",
    "------------------\n",
    "F150 available in Black, Blue, Ivory\n",
    "Thunderbird available in Black, Red, White\n",
    "```"
   ]
  },
  {
   "cell_type": "code",
   "execution_count": null,
   "metadata": {},
   "outputs": [],
   "source": [
    "# code here!"
   ]
  },
  {
   "cell_type": "markdown",
   "metadata": {},
   "source": [
    "<hr>\n",
    "\n",
    "### Part III: Black Hat Hacker Challenge!!\n",
    "\n",
    "Rewrite your nested `for loops` as nested `comprehensions`."
   ]
  },
  {
   "cell_type": "code",
   "execution_count": null,
   "metadata": {},
   "outputs": [],
   "source": [
    "# code here!"
   ]
  }
 ],
 "metadata": {
  "kernelspec": {
   "display_name": "Python 3",
   "language": "python",
   "name": "python3"
  },
  "language_info": {
   "codemirror_mode": {
    "name": "ipython",
    "version": 3
   },
   "file_extension": ".py",
   "mimetype": "text/x-python",
   "name": "python",
   "nbconvert_exporter": "python",
   "pygments_lexer": "ipython3",
   "version": "3.7.4"
  }
 },
 "nbformat": 4,
 "nbformat_minor": 2
}
