{
 "cells": [
  {
   "cell_type": "markdown",
   "metadata": {},
   "source": [
    "# The Family Dictionary\n",
    "\n",
    "## Instructions\n",
    "* Define a dictionary that contains information about several members of your family. \n",
    "Use the following example as a template.\n",
    "\n",
    "```py\n",
    "my_family = {\n",
    "    \"sister\": {\n",
    "        \"name\": \"Krista\",\n",
    "        \"age\": 42\n",
    "    },\n",
    "    \"mother\": {\n",
    "        \"name\": \"Cathie\",\n",
    "        \"age\": 70\n",
    "    }\n",
    "}\n",
    "```\n",
    "\n",
    "* Using a dictionary comprehension, produce output that looks like the following example.\n",
    "\n",
    "```\n",
    "Krista is my sister and is 42 years old.\n",
    "Cathie is my mother and is 70 years old.\n",
    "```\n",
    "\n",
    "> **Helpful hint**: To convert an integer into a string in Python, it's str(integer_value)"
   ]
  },
  {
   "cell_type": "code",
   "execution_count": null,
   "metadata": {},
   "outputs": [],
   "source": []
  }
 ],
 "metadata": {
  "kernelspec": {
   "display_name": "Python 3",
   "language": "python",
   "name": "python3"
  },
  "language_info": {
   "codemirror_mode": {
    "name": "ipython",
    "version": 3
   },
   "file_extension": ".py",
   "mimetype": "text/x-python",
   "name": "python",
   "nbconvert_exporter": "python",
   "pygments_lexer": "ipython3",
   "version": "3.7.4"
  }
 },
 "nbformat": 4,
 "nbformat_minor": 2
}
