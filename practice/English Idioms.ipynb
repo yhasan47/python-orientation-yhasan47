{
 "cells": [
  {
   "cell_type": "markdown",
   "metadata": {},
   "source": [
    "# English Idioms"
   ]
  },
  {
   "cell_type": "code",
   "execution_count": null,
   "metadata": {},
   "outputs": [],
   "source": [
    "idioms = {\n",
    "    \"Penny\": [\"a\", \"penny\", \"for\", \"your\", \"thoughts\"],\n",
    "    \"Injury\": [\"add\", \"insult\", \"to\", \"injury\"],\n",
    "    \"Moon\": [\"once\", \"in\", \"a\", \"blue\", \"moon\"],\n",
    "    \"Grape\": [\"i\", \"heard\", \"it\", \"through\", \"the\", \"grapevine\"],\n",
    "    \"Murder\": [\"kill\", \"two\", \"birds\", \"with\", \"one\", \"stone\"],\n",
    "    \"Limbs\": [\"it\", \"costs\", \"an\", \"arm\", \"and\", \"a\", \"leg\"],\n",
    "    \"Grain\": [\"take\", \"what\", \"someone\", \"says\", \"with\", \"a\", \"grain\", \"of\", \"salt\"],\n",
    "    \"Fences\": [\"i'm\", \"on\", \"the\", \"fence\", \"about\", \"it\"],\n",
    "    \"Sheep\": [\"pulled\", \"the\", \"wool\", \"over\", \"his\", \"eyes\"],\n",
    "    \"Lucifer\": [\"speak\", \"of\", \"the\", \"devil\"],\n",
    "}"
   ]
  },
  {
   "cell_type": "markdown",
   "metadata": {},
   "source": [
    "Using the above `idioms` dictionary, write a `for-in loop` to produce the output below:\n",
    "\n",
    "```\n",
    "PENNY: A penny for your thoughts\n",
    "INJURY: Add insult to injury\n",
    "MOON: Once in a blue moon\n",
    "GRAPE: I heard it through the grapevine\n",
    "MURDER: Kill two birds with one stone\n",
    "LIMBS: It costs an arm and a leg\n",
    "GRAIN: Take what someone says with a grain of salt\n",
    "FENCES: I'm on the fence about it\n",
    "SHEEP: Pulled the wool over his eyes\n",
    "LUCIFER: Speak of the devil\n",
    "```\n",
    "\n",
    "> Make sure you [join](https://docs.python.org/3/library/stdtypes.html#str.join) the strings."
   ]
  },
  {
   "cell_type": "code",
   "execution_count": null,
   "metadata": {},
   "outputs": [],
   "source": []
  }
 ],
 "metadata": {
  "kernelspec": {
   "display_name": "Python 3",
   "language": "python",
   "name": "python3"
  },
  "language_info": {
   "codemirror_mode": {
    "name": "ipython",
    "version": 3
   },
   "file_extension": ".py",
   "mimetype": "text/x-python",
   "name": "python",
   "nbconvert_exporter": "python",
   "pygments_lexer": "ipython3",
   "version": "3.7.4"
  }
 },
 "nbformat": 4,
 "nbformat_minor": 2
}
