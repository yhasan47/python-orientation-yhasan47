{
 "cells": [
  {
   "cell_type": "markdown",
   "metadata": {},
   "source": [
    "# Stock Portfolio - Advanced\n",
    "\n",
    "A block of publicly traded stock has a variety of attributes. \n",
    "Let's look at a few of them. \n",
    "A stock has a ticker symbol and a company name. \n",
    "\n",
    "### Part I.\n",
    "\n",
    "* Create a simple dictionary with ticker symbols and company names.\n",
    "\n",
    "**Example**\n",
    "```py\n",
    "stockDict = {\n",
    "    \"GM\": \"General Motors\",\n",
    "    \"CAT\":\"Caterpillar\",\n",
    "    \"EK\":\"Eastman Kodak\"\n",
    "}\n",
    "```\n",
    "\n",
    "* Create a simple list of blocks of stock. \n",
    "Make them tuples with ticker symbols, number of shares, dates and price.\n",
    "\n",
    "**Example**\n",
    "```py\n",
    "purchases = [\n",
    "    ( 'GE', 100, '10-sep-2001', 48 ),\n",
    "    ( 'CAT', 100, '1-apr-1999', 24 ),\n",
    "    ( 'GE', 200, '1-jul-1998', 56 )\n",
    "]\n",
    "```\n",
    "\n",
    "* Create a purchase history report that computes the full purchase price (shares times dollars) for each block of stock from the `purchases` dict and use the `stockDict` to look up the full company name. \n",
    "Think of this as an [INNER JOIN](https://www.postgresqltutorial.com/postgresql-inner-join/) between two tables.\n",
    "\n",
    "Example output for one block: \n",
    "> I purchased General Electric stock for $4800"
   ]
  },
  {
   "cell_type": "code",
   "execution_count": null,
   "metadata": {},
   "outputs": [],
   "source": [
    "# code here!"
   ]
  },
  {
   "cell_type": "markdown",
   "metadata": {},
   "source": [
    "<hr>\n",
    "\n",
    "### Part II.\n",
    "\n",
    "* Create a second purchase summary that accumulates total investment by ticker symbol. \n",
    "\n",
    "In the above sample data, there are two blocks of `GE`. \n",
    "These can easily be combined by creating a dict where the key is the ticker and the value is the list of blocks purchased. \n",
    "The program makes one pass through the data to create the dict. \n",
    "A pass through the dict can then create a report showing each ticker symbol and all blocks of stock.\n",
    "\n",
    "Example output:\n",
    "```\n",
    "------ GE ------\n",
    "100 shares at 48 dollars each on 01-jul-1998\n",
    "200 shares at 56 dollars each on 10-sep-2001\n",
    "\n",
    "Total value of stock in portfolio: $16000\n",
    "```"
   ]
  },
  {
   "cell_type": "code",
   "execution_count": null,
   "metadata": {},
   "outputs": [],
   "source": [
    "# code here!"
   ]
  }
 ],
 "metadata": {
  "kernelspec": {
   "display_name": "Python 3",
   "language": "python",
   "name": "python3"
  },
  "language_info": {
   "codemirror_mode": {
    "name": "ipython",
    "version": 3
   },
   "file_extension": ".py",
   "mimetype": "text/x-python",
   "name": "python",
   "nbconvert_exporter": "python",
   "pygments_lexer": "ipython3",
   "version": "3.7.4"
  }
 },
 "nbformat": 4,
 "nbformat_minor": 2
}
