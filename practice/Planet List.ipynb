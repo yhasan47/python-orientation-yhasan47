{
 "cells": [
  {
   "cell_type": "code",
   "execution_count": null,
   "metadata": {},
   "outputs": [],
   "source": [
    "planet_list = [\"Mercury\", \"Mars\"]"
   ]
  },
  {
   "cell_type": "markdown",
   "metadata": {},
   "source": [
    "# Planet List\n",
    "\n",
    "1. Use `append()` to add Jupiter and Saturn at the end of the list.\n",
    "1. Use the `extend()` method to add another list of the last two planets in our solar system to the end of the list.\n",
    "1. Use `insert()` to add Earth, and Venus in the correct order.\n",
    "1. Use `append()` again to add Pluto to the end of the list.\n",
    "1. Now that all the planets are in the list, slice the list in order to get the rocky planets into a new list called `rocky_planets`.\n",
    "1. Being good amateur astronomers, we know that Pluto is now a dwarf planet, so use the `del` operation to remove it from the end of `planet_list`."
   ]
  },
  {
   "cell_type": "code",
   "execution_count": null,
   "metadata": {},
   "outputs": [],
   "source": [
    "# Code it up here!"
   ]
  },
  {
   "cell_type": "markdown",
   "metadata": {},
   "source": [
    "<hr>\n",
    "\n",
    "## Challenge: Iterating Over Planets\n",
    "\n",
    "Create another list containing tuples. \n",
    "Each tuple will hold the name of a spacecraft that we have launched, and the names of the planet(s) that it has visited, or landed on."
   ]
  },
  {
   "cell_type": "code",
   "execution_count": null,
   "metadata": {},
   "outputs": [],
   "source": [
    "# Example spacecraft list\n",
    "spacecraft = [\n",
    "   (\"Cassini\", \"Saturn\"),\n",
    "   (\"Viking\", \"Mars\"),\n",
    "]"
   ]
  },
  {
   "cell_type": "markdown",
   "metadata": {},
   "source": [
    "Then, iterate over your list of planets, and inside that loop, iterate over the list of tuples. \n",
    "Print, for each planet, which satellites have visited it."
   ]
  },
  {
   "cell_type": "code",
   "execution_count": null,
   "metadata": {},
   "outputs": [],
   "source": []
  }
 ],
 "metadata": {
  "kernelspec": {
   "display_name": "Python 3",
   "language": "python",
   "name": "python3"
  },
  "language_info": {
   "codemirror_mode": {
    "name": "ipython",
    "version": 3
   },
   "file_extension": ".py",
   "mimetype": "text/x-python",
   "name": "python",
   "nbconvert_exporter": "python",
   "pygments_lexer": "ipython3",
   "version": "3.7.4"
  }
 },
 "nbformat": 4,
 "nbformat_minor": 2
}
