{
 "cells": [
  {
   "cell_type": "markdown",
   "metadata": {},
   "source": [
    "# Random Numbers\n",
    "\n",
    "### Instructions\n",
    "Use the following code to create a list of 10 random numbers. Each number will be between 0 and 6."
   ]
  },
  {
   "cell_type": "code",
   "execution_count": null,
   "metadata": {},
   "outputs": [],
   "source": [
    "import random\n",
    "\n",
    "my_randoms = list()\n",
    "for i in range(10):\n",
    "    my_randoms.append(random.randrange(1, 6, 1))"
   ]
  },
  {
   "cell_type": "code",
   "execution_count": null,
   "metadata": {},
   "outputs": [],
   "source": [
    "# The `my_randoms` list will now contain random numbers\n",
    "my_randoms"
   ]
  },
  {
   "cell_type": "markdown",
   "metadata": {},
   "source": [
    "<hr>\n",
    "\n",
    "Now, iterate a different list of numbers that are sequential from 1 to 10. \n",
    "Use the following code as your starting point."
   ]
  },
  {
   "cell_type": "code",
   "execution_count": null,
   "metadata": {
    "scrolled": true
   },
   "outputs": [],
   "source": [
    "import random\n",
    "\"\"\"\n",
    "Print a message to the console indicating whether each value of\n",
    "`number` is in the `my_randoms` list.\n",
    "\"\"\"\n",
    "\n",
    "my_randoms = list()\n",
    "for i in range(10):\n",
    "    my_randoms.append(random.randrange(1, 6, 1))\n",
    "\n",
    "# Generate a list of numbers 1..10\n",
    "numbers_1_to_10 = range(1, 10)\n",
    "\n",
    "# Iterate from 1 to 10\n",
    "for number in numbers_1_to_10:\n",
    "    the_numbers_match = False\n",
    "\n",
    "    # Iterate your random number list here\n",
    "\n",
    "    # Do the two numbers match? Change the boolean.\n",
    "\n",
    "    print(f'{number} is in the random list')"
   ]
  }
 ],
 "metadata": {
  "kernelspec": {
   "display_name": "Python 3",
   "language": "python",
   "name": "python3"
  },
  "language_info": {
   "codemirror_mode": {
    "name": "ipython",
    "version": 3
   },
   "file_extension": ".py",
   "mimetype": "text/x-python",
   "name": "python",
   "nbconvert_exporter": "python",
   "pygments_lexer": "ipython3",
   "version": "3.7.4"
  }
 },
 "nbformat": 4,
 "nbformat_minor": 2
}
